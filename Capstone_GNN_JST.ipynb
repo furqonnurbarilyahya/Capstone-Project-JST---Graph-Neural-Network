{
  "nbformat": 4,
  "nbformat_minor": 0,
  "metadata": {
    "colab": {
      "provenance": []
    },
    "kernelspec": {
      "name": "python3",
      "display_name": "Python 3"
    },
    "language_info": {
      "name": "python"
    }
  },
  "cells": [
    {
      "cell_type": "markdown",
      "source": [
        "# Capstone Project Mata Kuliah Jaringan Syaraf Tiruan\n",
        "\n",
        "Dosen Pengampu: Mochammad Anshori S.Kom.,M.Kom."
      ],
      "metadata": {
        "id": "eovN-MtBtmYw"
      }
    },
    {
      "cell_type": "markdown",
      "source": [
        "#1. Import Library\n"
      ],
      "metadata": {
        "id": "Ar1kt9twtg09"
      }
    },
    {
      "cell_type": "code",
      "source": [
        "#Install Library yang dibutuhkan\n",
        "\n",
        "!pip install torch_geometric               # Menyediakan tools dan layers yang diperlukan untuk mengimplementasikan GNN\n",
        "!pip install optuna                        # Hyperparameter optimization"
      ],
      "metadata": {
        "id": "iiDLuk5DPMAo",
        "colab": {
          "base_uri": "https://localhost:8080/"
        },
        "outputId": "ba2fdeba-67e3-4c10-c509-f5d45cf468b3"
      },
      "execution_count": 1,
      "outputs": [
        {
          "output_type": "stream",
          "name": "stdout",
          "text": [
            "Requirement already satisfied: torch_geometric in /usr/local/lib/python3.10/dist-packages (2.6.1)\n",
            "Requirement already satisfied: aiohttp in /usr/local/lib/python3.10/dist-packages (from torch_geometric) (3.11.10)\n",
            "Requirement already satisfied: fsspec in /usr/local/lib/python3.10/dist-packages (from torch_geometric) (2024.10.0)\n",
            "Requirement already satisfied: jinja2 in /usr/local/lib/python3.10/dist-packages (from torch_geometric) (3.1.4)\n",
            "Requirement already satisfied: numpy in /usr/local/lib/python3.10/dist-packages (from torch_geometric) (1.26.4)\n",
            "Requirement already satisfied: psutil>=5.8.0 in /usr/local/lib/python3.10/dist-packages (from torch_geometric) (5.9.5)\n",
            "Requirement already satisfied: pyparsing in /usr/local/lib/python3.10/dist-packages (from torch_geometric) (3.2.0)\n",
            "Requirement already satisfied: requests in /usr/local/lib/python3.10/dist-packages (from torch_geometric) (2.32.3)\n",
            "Requirement already satisfied: tqdm in /usr/local/lib/python3.10/dist-packages (from torch_geometric) (4.67.1)\n",
            "Requirement already satisfied: aiohappyeyeballs>=2.3.0 in /usr/local/lib/python3.10/dist-packages (from aiohttp->torch_geometric) (2.4.4)\n",
            "Requirement already satisfied: aiosignal>=1.1.2 in /usr/local/lib/python3.10/dist-packages (from aiohttp->torch_geometric) (1.3.2)\n",
            "Requirement already satisfied: async-timeout<6.0,>=4.0 in /usr/local/lib/python3.10/dist-packages (from aiohttp->torch_geometric) (4.0.3)\n",
            "Requirement already satisfied: attrs>=17.3.0 in /usr/local/lib/python3.10/dist-packages (from aiohttp->torch_geometric) (24.3.0)\n",
            "Requirement already satisfied: frozenlist>=1.1.1 in /usr/local/lib/python3.10/dist-packages (from aiohttp->torch_geometric) (1.5.0)\n",
            "Requirement already satisfied: multidict<7.0,>=4.5 in /usr/local/lib/python3.10/dist-packages (from aiohttp->torch_geometric) (6.1.0)\n",
            "Requirement already satisfied: propcache>=0.2.0 in /usr/local/lib/python3.10/dist-packages (from aiohttp->torch_geometric) (0.2.1)\n",
            "Requirement already satisfied: yarl<2.0,>=1.17.0 in /usr/local/lib/python3.10/dist-packages (from aiohttp->torch_geometric) (1.18.3)\n",
            "Requirement already satisfied: MarkupSafe>=2.0 in /usr/local/lib/python3.10/dist-packages (from jinja2->torch_geometric) (3.0.2)\n",
            "Requirement already satisfied: charset-normalizer<4,>=2 in /usr/local/lib/python3.10/dist-packages (from requests->torch_geometric) (3.4.0)\n",
            "Requirement already satisfied: idna<4,>=2.5 in /usr/local/lib/python3.10/dist-packages (from requests->torch_geometric) (3.10)\n",
            "Requirement already satisfied: urllib3<3,>=1.21.1 in /usr/local/lib/python3.10/dist-packages (from requests->torch_geometric) (2.2.3)\n",
            "Requirement already satisfied: certifi>=2017.4.17 in /usr/local/lib/python3.10/dist-packages (from requests->torch_geometric) (2024.12.14)\n",
            "Requirement already satisfied: typing-extensions>=4.1.0 in /usr/local/lib/python3.10/dist-packages (from multidict<7.0,>=4.5->aiohttp->torch_geometric) (4.12.2)\n",
            "Requirement already satisfied: optuna in /usr/local/lib/python3.10/dist-packages (4.1.0)\n",
            "Requirement already satisfied: alembic>=1.5.0 in /usr/local/lib/python3.10/dist-packages (from optuna) (1.14.0)\n",
            "Requirement already satisfied: colorlog in /usr/local/lib/python3.10/dist-packages (from optuna) (6.9.0)\n",
            "Requirement already satisfied: numpy in /usr/local/lib/python3.10/dist-packages (from optuna) (1.26.4)\n",
            "Requirement already satisfied: packaging>=20.0 in /usr/local/lib/python3.10/dist-packages (from optuna) (24.2)\n",
            "Requirement already satisfied: sqlalchemy>=1.4.2 in /usr/local/lib/python3.10/dist-packages (from optuna) (2.0.36)\n",
            "Requirement already satisfied: tqdm in /usr/local/lib/python3.10/dist-packages (from optuna) (4.67.1)\n",
            "Requirement already satisfied: PyYAML in /usr/local/lib/python3.10/dist-packages (from optuna) (6.0.2)\n",
            "Requirement already satisfied: Mako in /usr/local/lib/python3.10/dist-packages (from alembic>=1.5.0->optuna) (1.3.8)\n",
            "Requirement already satisfied: typing-extensions>=4 in /usr/local/lib/python3.10/dist-packages (from alembic>=1.5.0->optuna) (4.12.2)\n",
            "Requirement already satisfied: greenlet!=0.4.17 in /usr/local/lib/python3.10/dist-packages (from sqlalchemy>=1.4.2->optuna) (3.1.1)\n",
            "Requirement already satisfied: MarkupSafe>=0.9.2 in /usr/local/lib/python3.10/dist-packages (from Mako->alembic>=1.5.0->optuna) (3.0.2)\n"
          ]
        }
      ]
    },
    {
      "cell_type": "markdown",
      "source": [
        "#2. Data Preparation"
      ],
      "metadata": {
        "id": "zxcH-4lp5y_6"
      }
    },
    {
      "cell_type": "code",
      "execution_count": 2,
      "metadata": {
        "id": "RkihV5qqHhrf"
      },
      "outputs": [],
      "source": [
        "import pandas as pd\n",
        "import torch\n",
        "from torch_geometric.data import Data\n",
        "\n",
        "# Memuat file edges dan nodes/target\n",
        "edges_df = pd.read_csv('/content/drive/MyDrive/Jaringan Syaraf Tiruan/musae_git_edges.csv')  # Memuat file edges\n",
        "nodes_df = pd.read_csv('/content/drive/MyDrive/Jaringan Syaraf Tiruan/musae_git_target.csv')  # Memuat file nodes dengan target\n",
        "\n",
        "# Membuat edge_index dari kolom 'id_1' dan 'id_2'\n",
        "edge_index = torch.tensor(edges_df.values.T, dtype=torch.long)\n",
        "\n",
        "# Membuat fitur node (asumsikan hanya menggunakan id sebagai fitur numerik sederhana)\n",
        "x = torch.tensor(nodes_df['id'].values.reshape(-1, 1), dtype=torch.float)\n",
        "\n",
        "# Membuat target label (ml_target)\n",
        "y = torch.tensor(nodes_df['ml_target'].values, dtype=torch.long)\n",
        "\n",
        "# Membuat objek Data untuk GNN\n",
        "data = Data(x=x, edge_index=edge_index, y=y)\n"
      ]
    },
    {
      "cell_type": "code",
      "source": [
        "# Menampilkan jumlah node\n",
        "num_nodes = data.num_nodes\n",
        "print(f\"Number of nodes: {num_nodes}\")"
      ],
      "metadata": {
        "id": "Z07dM1M5-ZDm",
        "colab": {
          "base_uri": "https://localhost:8080/"
        },
        "outputId": "1574dde1-0f80-4d0c-bf5a-fef769ec03b4"
      },
      "execution_count": 3,
      "outputs": [
        {
          "output_type": "stream",
          "name": "stdout",
          "text": [
            "Number of nodes: 37700\n"
          ]
        }
      ]
    },
    {
      "cell_type": "code",
      "source": [
        "# Menampilkan jumlah edge\n",
        "num_edges = data.edge_index.shape[1]\n",
        "print(f\"Number of edges: {num_edges}\")"
      ],
      "metadata": {
        "id": "IuEANFhH-a2e",
        "colab": {
          "base_uri": "https://localhost:8080/"
        },
        "outputId": "e50e4708-9a44-4c80-8360-396bdc8ec4db"
      },
      "execution_count": 4,
      "outputs": [
        {
          "output_type": "stream",
          "name": "stdout",
          "text": [
            "Number of edges: 289003\n"
          ]
        }
      ]
    },
    {
      "cell_type": "markdown",
      "source": [
        "#3. Memilih Arsitektur GNN dan Desain Model\n",
        "Pada kasus ini menggunakan Arsitektur *Graph Convolutional Network* (GCN)"
      ],
      "metadata": {
        "id": "Yj6rmqfR5Nxx"
      }
    },
    {
      "cell_type": "code",
      "source": [
        "import torch.nn as nn\n",
        "from torch_geometric.nn import GCNConv\n",
        "\n",
        "class GCN(nn.Module):\n",
        "    def __init__(self, input_dim, hidden_dim, output_dim):\n",
        "        super(GCN, self).__init__()\n",
        "        self.gcn1 = GCNConv(input_dim, hidden_dim)  # Layer konvolusi pertama\n",
        "        self.gcn2 = GCNConv(hidden_dim, output_dim)  # Layer konvolusi kedua\n",
        "        self.fc = nn.Linear(output_dim, 2)  # Output layer (2 kelas: Web Developer / ML Developer)\n",
        "\n",
        "    def forward(self, x, edge_index):\n",
        "        x = self.gcn1(x, edge_index).relu()  # Aktivasi ReLU pada layer pertama\n",
        "        x = self.gcn2(x, edge_index).relu()  # Aktivasi ReLU pada layer kedua\n",
        "        x = self.fc(x)  # Output layer\n",
        "        return x\n"
      ],
      "metadata": {
        "id": "TbG2c4WQOJKr"
      },
      "execution_count": 5,
      "outputs": []
    },
    {
      "cell_type": "markdown",
      "source": [
        "#4. Melatih dan Mengevaluasi Performa Model"
      ],
      "metadata": {
        "id": "In1wusdk5SUx"
      }
    },
    {
      "cell_type": "code",
      "source": [
        "import torch.optim as optim\n",
        "import torch.nn.functional as F\n",
        "\n",
        "# Inisialisasi model, optimizer, dan loss function\n",
        "model = GCN(input_dim=data.x.shape[1], hidden_dim=16, output_dim=16)\n",
        "optimizer = optim.Adam(model.parameters(), lr=0.01)\n",
        "criterion = nn.CrossEntropyLoss()\n",
        "\n",
        "# Fungsi pelatihan\n",
        "def train(model, data, optimizer, criterion):\n",
        "    model.train()\n",
        "    optimizer.zero_grad()\n",
        "    out = model(data.x, data.edge_index)  # Forward pass\n",
        "    loss = criterion(out, data.y)  # Menghitung loss\n",
        "    loss.backward()  # Backpropagation\n",
        "    optimizer.step()  # Update bobot\n",
        "    return loss.item()\n",
        "\n",
        "# Fungsi evaluasi\n",
        "def evaluate(model, data):\n",
        "    model.eval()\n",
        "    with torch.no_grad():\n",
        "        out = model(data.x, data.edge_index)  # Prediksi\n",
        "        pred = out.argmax(dim=1)  # Kelas dengan probabilitas tertinggi\n",
        "        correct = (pred == data.y).sum().item()  # Hitung prediksi yang benar\n",
        "        accuracy = correct / len(data.y)\n",
        "    return accuracy\n",
        "\n",
        "# Melatih model\n",
        "for epoch in range(1, 201):\n",
        "    loss = train(model, data, optimizer, criterion)\n",
        "    if epoch % 20 == 0:\n",
        "        acc = evaluate(model, data)\n",
        "        print(f'Epoch: {epoch:03d}, Loss: {loss:.4f}, Accuracy: {acc:.4f}')\n",
        "\n",
        "# Evaluasi akhir setelah pelatihan selesai\n",
        "accuracy = evaluate(model, data)\n",
        "print(f'\\n\\nAkurasi Model: {accuracy:.4f}')"
      ],
      "metadata": {
        "id": "YtmXK6YdP9G2",
        "colab": {
          "base_uri": "https://localhost:8080/"
        },
        "outputId": "65d4e1b2-ee6d-4981-bc09-e80833e24957"
      },
      "execution_count": 6,
      "outputs": [
        {
          "output_type": "stream",
          "name": "stdout",
          "text": [
            "Epoch: 020, Loss: 156.3845, Accuracy: 0.7417\n",
            "Epoch: 040, Loss: 14.5254, Accuracy: 0.7415\n",
            "Epoch: 060, Loss: 53.9478, Accuracy: 0.2583\n",
            "Epoch: 080, Loss: 24.4573, Accuracy: 0.7415\n",
            "Epoch: 100, Loss: 10.7834, Accuracy: 0.2583\n",
            "Epoch: 120, Loss: 42.3189, Accuracy: 0.7415\n",
            "Epoch: 140, Loss: 0.7545, Accuracy: 0.7411\n",
            "Epoch: 160, Loss: 16.5604, Accuracy: 0.7411\n",
            "Epoch: 180, Loss: 0.6802, Accuracy: 0.2583\n",
            "Epoch: 200, Loss: 11.6381, Accuracy: 0.7409\n",
            "\n",
            "\n",
            "Akurasi Model: 0.7409\n"
          ]
        }
      ]
    }
  ]
}